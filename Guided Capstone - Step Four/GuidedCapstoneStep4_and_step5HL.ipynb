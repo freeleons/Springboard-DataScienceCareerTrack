{
  "nbformat": 4,
  "nbformat_minor": 0,
  "metadata": {
    "colab": {
      "name": "GuidedCapstoneStep4 and step5HL.ipynb",
      "provenance": [],
      "collapsed_sections": [
        "RtEspslPZyGY",
        "s0DokMkAZyGc",
        "2iuitnKcZyHS",
        "iAWQxougZyHW",
        "ThMTimlBZyHZ",
        "QwZ-LkjXZyHt",
        "srtXEA3N4-Y9",
        "ChVreJupZyIA",
        "zDgSSsq1ZyID",
        "I3GYKWfi5Llg",
        "pmMvrhbI-viE",
        "ZXDPkW3UZyIX",
        "Dnc_vHQLZyId",
        "daJxuJ-dZyIg",
        "mAQ-oHiPZyIn",
        "hnGOsp3mZyIp"
      ]
    },
    "kernelspec": {
      "display_name": "Python 3",
      "language": "python",
      "name": "python3"
    },
    "language_info": {
      "codemirror_mode": {
        "name": "ipython",
        "version": 3
      },
      "file_extension": ".py",
      "mimetype": "text/x-python",
      "name": "python",
      "nbconvert_exporter": "python",
      "pygments_lexer": "ipython3",
      "version": "3.7.3"
    },
    "toc": {
      "base_numbering": "0",
      "nav_menu": {},
      "number_sections": true,
      "sideBar": true,
      "skip_h1_title": false,
      "title_cell": "Table of Contents",
      "title_sidebar": "Contents",
      "toc_cell": true,
      "toc_position": {
        "height": "calc(100% - 180px)",
        "left": "10px",
        "top": "150px",
        "width": "288px"
      },
      "toc_section_display": true,
      "toc_window_display": true
    }
  },
  "cells": [
    {
      "cell_type": "markdown",
      "metadata": {
        "colab_type": "text",
        "id": "cf5CmXQCZyF1"
      },
      "source": [
        "# Guided Capstone Step 4. Pre-Processing and Training Data Development"
      ]
    },
    {
      "cell_type": "markdown",
      "metadata": {
        "colab_type": "text",
        "id": "b2jue2jPGJlt"
      },
      "source": [
        "**The Data Science Method**  \n",
        "\n",
        "\n",
        "1.   Problem Identification \n",
        "\n",
        "\n",
        "2.   Data Wrangling \n",
        "  \n",
        " \n",
        "3.   Exploratory Data Analysis   \n",
        "\n",
        "4.   **Pre-processing and Training Data Development**  \n",
        " * Create dummy or indicator features for categorical variables\n",
        "  * Standardize the magnitude of numeric features\n",
        "  * Split into testing and training datasets\n",
        "  * Apply scaler to the testing set\n",
        "5.   Modeling \n",
        "  * Fit Models with Training Data Set\n",
        "  * Review Model Outcomes — Iterate over additional models as needed.\n",
        "  * Identify the Final Model\n",
        "\n",
        "6.   Documentation\n",
        "  * Review the Results\n",
        "  * Present and share your findings - storytelling\n",
        "  * Finalize Code \n",
        "  * Finalize Documentation"
      ]
    },
    {
      "cell_type": "markdown",
      "metadata": {
        "colab_type": "text",
        "id": "K8xfkAqqZyF2"
      },
      "source": [
        "**<font color='teal'> Start by loading the necessary packages as we did in step 3 and printing out our current working directory just to confirm we are in the correct project directory. </font>**"
      ]
    },
    {
      "cell_type": "code",
      "metadata": {
        "colab_type": "code",
        "id": "ry6WPL5eZyF3",
        "colab": {
          "base_uri": "https://localhost:8080/",
          "height": 71
        },
        "outputId": "120f3bd2-9d89-4564-f117-139e72d7fe4f"
      },
      "source": [
        "import pandas as pd\n",
        "import datetime\n",
        "import seaborn as sns\n",
        "import matplotlib.pyplot as plt\n",
        "import numpy as np\n",
        "%matplotlib inline\n",
        "import pandas as pd\n",
        "from google.colab import drive"
      ],
      "execution_count": 1,
      "outputs": [
        {
          "output_type": "stream",
          "text": [
            "/usr/local/lib/python3.6/dist-packages/statsmodels/tools/_testing.py:19: FutureWarning: pandas.util.testing is deprecated. Use the functions in the public API at pandas.testing instead.\n",
            "  import pandas.util.testing as tm\n"
          ],
          "name": "stderr"
        }
      ]
    },
    {
      "cell_type": "markdown",
      "metadata": {
        "colab_type": "text",
        "id": "630T-ogRZyF8"
      },
      "source": [
        "**<font color='teal'>  Load the csv file you created in step 3, remember it should be saved inside your data subfolder and print the first five rows.</font>**"
      ]
    },
    {
      "cell_type": "code",
      "metadata": {
        "colab_type": "code",
        "id": "dMNbk0u3ZyF9",
        "colab": {
          "base_uri": "https://localhost:8080/",
          "height": 122
        },
        "outputId": "8e4a5980-adbf-41e9-8b65-af3d89bf7069"
      },
      "source": [
        "drive.mount('/content/drive/')\n",
        "folder_location = '/content/drive/My Drive/Springboard - Data Science Career Track/Guided Capstone - Step Three'\n",
        "df = pd.read_csv(folder_location + '/data/step3_output.csv')\n"
      ],
      "execution_count": 2,
      "outputs": [
        {
          "output_type": "stream",
          "text": [
            "Go to this URL in a browser: https://accounts.google.com/o/oauth2/auth?client_id=947318989803-6bn6qk8qdgf4n4g3pfee6491hc0brc4i.apps.googleusercontent.com&redirect_uri=urn%3aietf%3awg%3aoauth%3a2.0%3aoob&response_type=code&scope=email%20https%3a%2f%2fwww.googleapis.com%2fauth%2fdocs.test%20https%3a%2f%2fwww.googleapis.com%2fauth%2fdrive%20https%3a%2f%2fwww.googleapis.com%2fauth%2fdrive.photos.readonly%20https%3a%2f%2fwww.googleapis.com%2fauth%2fpeopleapi.readonly\n",
            "\n",
            "Enter your authorization code:\n",
            "··········\n",
            "Mounted at /content/drive/\n"
          ],
          "name": "stdout"
        }
      ]
    },
    {
      "cell_type": "markdown",
      "metadata": {
        "colab_type": "text",
        "id": "zkBHf9smZyGB"
      },
      "source": [
        "## Create dummy features for categorical variables"
      ]
    },
    {
      "cell_type": "markdown",
      "metadata": {
        "colab_type": "text",
        "id": "vWKHm0NhAnrJ"
      },
      "source": [
        "**<font color='teal'> Create dummy variables for `state`. Add the dummies back to the dataframe and remove the original column for `state`. </font>**\n",
        "\n",
        "Hint: you can see an example of how to execute this in Aiden's article on preprocessing [here](https://medium.com/@aiden.dataminer/the-data-science-method-dsm-pre-processing-and-training-data-development-fd2d75182967). "
      ]
    },
    {
      "cell_type": "code",
      "metadata": {
        "colab_type": "code",
        "id": "lZqWk8ltZyGZ",
        "colab": {
          "base_uri": "https://localhost:8080/",
          "height": 255
        },
        "outputId": "39fc471a-ce2b-4b76-979e-d166be91abe1"
      },
      "source": [
        "dummy_state = pd.get_dummies(df['state'])\n",
        "print(dummy_state)\n",
        "dfo = df.select_dtypes(include=['object'])\n",
        "df = pd.concat([df.drop(dfo,axis=1), dummy_state], axis=1)"
      ],
      "execution_count": 6,
      "outputs": [
        {
          "output_type": "stream",
          "text": [
            "     Alaska  Arizona  California  ...  West Virginia  Wisconsin  Wyoming\n",
            "0         1        0           0  ...              0          0        0\n",
            "1         0        1           0  ...              0          0        0\n",
            "2         0        0           1  ...              0          0        0\n",
            "3         0        0           1  ...              0          0        0\n",
            "4         0        0           1  ...              0          0        0\n",
            "..      ...      ...         ...  ...            ...        ...      ...\n",
            "171       0        0           0  ...              0          0        1\n",
            "172       0        0           0  ...              0          0        1\n",
            "173       0        0           0  ...              0          0        1\n",
            "174       0        0           0  ...              0          0        1\n",
            "175       0        0           0  ...              0          0        1\n",
            "\n",
            "[176 rows x 35 columns]\n"
          ],
          "name": "stdout"
        }
      ]
    },
    {
      "cell_type": "markdown",
      "metadata": {
        "colab_type": "text",
        "id": "HnDVhE1-ZyGF"
      },
      "source": [
        "## Standardize the magnitude of numeric features\n",
        "\n",
        "**<font color='teal'> Using sklearn preprocessing standardize the scale of the features of the dataframe except the name of the resort which we done't need in the dataframe for modeling, so it can be droppped here as well. Also, we want to hold out our response variable(s) so we can have their true values available for model performance review. Let's set `AdultWeekend` to the y variable as our response for scaling and modeling. Later we will go back and consider the `AdultWeekday`, `dayOpenLastYear`, and `projectedDaysOpen`. For now leave them in the development dataframe. </font>**"
      ]
    },
    {
      "cell_type": "code",
      "metadata": {
        "colab_type": "code",
        "id": "gW3D-WlDZyGG",
        "colab": {}
      },
      "source": [
        "**<font color='teal'> Using sklearn preprocessing standardize the scale of the features of the dataframe except the name of the resort which we done't need in the dataframe for modeling, so it can be droppped here as well. Also, we want to hold out our response variable(s) so we can have their true values available for model performance review. Let's set `AdultWeekend` to the y variable as our response for scaling and modeling. Later we will go back and consider the `AdultWeekday`, `dayOpenLastYear`, and `projectedDaysOpen`. For now leave them in the development dataframe. </font>**"
      ],
      "execution_count": 0,
      "outputs": []
    },
    {
      "cell_type": "code",
      "metadata": {
        "colab_type": "code",
        "id": "IZL-q-KtAYI6",
        "colab": {}
      },
      "source": [
        "# first we import the preprocessing package from the sklearn library\n",
        "from sklearn import preprocessing\n",
        "\n",
        "# Declare an explanatory variable, called X,and assign it the result of dropping 'Name' and 'AdultWeekend' from the df\n",
        "X = df.drop(['AdultWeekend'], axis=1)\n",
        "\n",
        "# Declare a response variable, called y, and assign it the AdultWeekend column of the df \n",
        "y = df.AdultWeekend\n",
        "\n",
        "# Here we use the StandardScaler() method of the preprocessing package, and then call the fit() method with parameter X \n",
        "scaler = preprocessing.StandardScaler().fit(X)\n",
        "\n",
        "# Declare a variable called X_scaled, and assign it the result of calling the transform() method with parameter X \n",
        "X_scaled=scaler.transform(X)"
      ],
      "execution_count": 0,
      "outputs": []
    },
    {
      "cell_type": "markdown",
      "metadata": {
        "colab_type": "text",
        "id": "GAT8h4_mZyGK"
      },
      "source": [
        "## Split into training and testing datasets"
      ]
    },
    {
      "cell_type": "markdown",
      "metadata": {
        "colab_type": "text",
        "id": "6rdS8EGeAnrW"
      },
      "source": [
        "**<font color='teal'> Using sklearn model selection import train_test_split, and create a 75/25 split with the y = `AdultWeekend`. We will start by using the adult weekend ticket price as our response variable for modeling.</font>**"
      ]
    },
    {
      "cell_type": "code",
      "metadata": {
        "colab_type": "code",
        "id": "BSkPut0gguds",
        "colab": {}
      },
      "source": [
        "# Import the train_test_split function from the sklearn.model_selection utility.  \n",
        "from sklearn.model_selection import train_test_split\n",
        "\n",
        "# Get the 1-dimensional flattened array of our response variable y by calling the ravel() function on y\n",
        "y = y.ravel()\n",
        "\n",
        "# Call the train_test_split() function with the first two parameters set to X_scaled and y \n",
        "# Declare four variables, X_train, X_test, y_train and y_test separated by commas \n",
        "X_train, X_test, y_train, y_test = train_test_split(X_scaled, y, test_size=0.25, random_state=1)"
      ],
      "execution_count": 0,
      "outputs": []
    },
    {
      "cell_type": "markdown",
      "metadata": {
        "colab_type": "text",
        "id": "UayqbwkWAnra"
      },
      "source": [
        "Here we start the actual modeling work. First let's fit a multiple linear regression model to predict the `AdultWeekend` price."
      ]
    },
    {
      "cell_type": "markdown",
      "metadata": {
        "colab_type": "text",
        "id": "83fkLldXFCNd"
      },
      "source": [
        "# Guided Capstone Step 5. Modeling\n"
      ]
    },
    {
      "cell_type": "markdown",
      "metadata": {
        "colab_type": "text",
        "id": "JbZXsVevfr9M"
      },
      "source": [
        "This is the fifth step in the Data Science Method. In the previous steps you cleaned and prepared the datasets. Now it's time to get into the most exciting part: modeling! In this exercise, you'll build three different models and compare each model's performance. In the end, you'll choose the best model for demonstrating insights to Big Mountain management.\n",
        "\n",
        "\n",
        "\n",
        "### **The Data Science Method**  \n",
        "\n",
        "\n",
        "1.   Problem Identification \n",
        "\n",
        "2.   Data Wrangling \n",
        "  \n",
        "3.   Exploratory Data Analysis \n",
        " \n",
        "4.   Pre-processing and Training Data Development\n",
        "\n",
        "5.   **Modeling**\n",
        "  * Fit Models with Training Data Set\n",
        "  * Review Model Outcomes — Iterate over additional models as needed.\n",
        "  * Identify the Final Model\n",
        "\n",
        "6.   Documentation\n",
        "  * Review the Results\n",
        "  * Present and share your findings - storytelling\n",
        "  * Finalize Code \n",
        "  * Finalize Documentation"
      ]
    },
    {
      "cell_type": "markdown",
      "metadata": {
        "colab_type": "text",
        "id": "D_wfsP_-Anra"
      },
      "source": [
        "## Fit Models with a Training Dataset"
      ]
    },
    {
      "cell_type": "markdown",
      "metadata": {
        "colab_type": "text",
        "id": "CoI8S5SwAnrc"
      },
      "source": [
        "**<font color='teal'> Using sklearn, fit the model on your training dataset.</font>**"
      ]
    },
    {
      "cell_type": "markdown",
      "metadata": {
        "colab_type": "text",
        "id": "P_GFr8sRAnrd"
      },
      "source": [
        "#### Model 1"
      ]
    },
    {
      "cell_type": "code",
      "metadata": {
        "colab_type": "code",
        "id": "fW6K7uOPAnre",
        "colab": {}
      },
      "source": [
        "#all first model set\n",
        "#from sklearn import linear_model\n",
        "#from sklearn.metrics import explained_variance_score,mean_absolute_error\n",
        "#lm = linear_model.LinearRegression()\n",
        "#model = lm.fit(X_train,y_train)"
      ],
      "execution_count": 0,
      "outputs": []
    },
    {
      "cell_type": "markdown",
      "metadata": {
        "colab_type": "text",
        "id": "1fHqz9-WAnrg"
      },
      "source": [
        "**<font color='teal'> Predict on the testing dataset and score the model performance with the y_test set and the y-pred values. The explained variance is a measure of the variation explained by the model. This is also known as the R-squared value. </font>**\n",
        "\n",
        "Hint: you will have to use the `predict()` method here as it's used in this [DSM article](https://medium.com/@aiden.dataminer/the-data-science-method-dsm-modeling-56b4233cad1b) about modeling. "
      ]
    },
    {
      "cell_type": "code",
      "metadata": {
        "colab_type": "code",
        "id": "nIo01lFEAnrh",
        "colab": {}
      },
      "source": [
        "# Make a variable called y_pred and assign it the result of calling predict() on our model variable with parameter X_test"
      ],
      "execution_count": 0,
      "outputs": []
    },
    {
      "cell_type": "markdown",
      "metadata": {
        "colab_type": "text",
        "id": "N4YS0WE2Anrk"
      },
      "source": [
        "## Review Model Outcomes — Iterate over additional models as needed"
      ]
    },
    {
      "cell_type": "code",
      "metadata": {
        "colab_type": "code",
        "id": "HSh9sGIYAnrk",
        "colab": {}
      },
      "source": [
        "# You might want to use the explained_variance_score() and mean_absolute_error() metrics.\n",
        "# To do so, you will need to import them from sklearn.metrics. \n",
        "# You can plug y_test and y_pred into the functions to evaluate the model"
      ],
      "execution_count": 0,
      "outputs": []
    },
    {
      "cell_type": "code",
      "metadata": {
        "colab_type": "code",
        "id": "ihzeo8tqAnro",
        "colab": {}
      },
      "source": [
        ""
      ],
      "execution_count": 0,
      "outputs": []
    },
    {
      "cell_type": "markdown",
      "metadata": {
        "colab_type": "text",
        "id": "NWJcOuSdAnrr"
      },
      "source": [
        "**<font color='teal'> Print the intercept value from the linear model. </font>**\n",
        "\n",
        "Hint: our linear regression model `lm` has an attribute `intercept_` for the intercept"
      ]
    },
    {
      "cell_type": "code",
      "metadata": {
        "colab_type": "code",
        "id": "3WzWejn6Anrt",
        "colab": {}
      },
      "source": [
        ""
      ],
      "execution_count": 0,
      "outputs": []
    },
    {
      "cell_type": "markdown",
      "metadata": {
        "colab_type": "text",
        "id": "edajrenAAnrv"
      },
      "source": [
        "**<font color='teal'> The intercept is the mean `AdultWeekend` price for all the resorts given the other characteristics. The addition or subtraction of each of the coefficient values in the regression are numeric adjustments applied to the intercept to provide a particular observation's value for the resulting `AdultWeekend` value. Also, because we took the time to scale our x values in the training data, we can compare each of the coeeficients for the features to determine the feature importances. Print the coefficient values from the linear model and sort in descending order to identify the top ten most important features.</font>** \n",
        "\n",
        "\n",
        "Hint: make sure to review the absolute value of the coefficients, because the adjustment may be positive or negative, but what we are looking for is the magnitude of impact on our response variable."
      ]
    },
    {
      "cell_type": "code",
      "metadata": {
        "colab_type": "code",
        "id": "FEKc_lmZAnrw",
        "colab": {}
      },
      "source": [
        "# You might want to make a pandas DataFrame displaying the coefficients for each state like so: \n",
        "# pd.DataFrame(abs(lm.coef_), X.columns, columns=['Coefficient'])\n"
      ],
      "execution_count": 0,
      "outputs": []
    },
    {
      "cell_type": "markdown",
      "metadata": {
        "colab_type": "text",
        "id": "BpdALMoAAnry"
      },
      "source": [
        "**<font color='teal'>You should see that the top ten important features are different states. However, the state is not something the managers at the Big Mountain Resort can do anything about. Given that we care more about actionable traits associated with ticket pricing, rebuild the model without the state features and compare the results. </font>**\n",
        "\n",
        "Hint: Try to construct another model using exactly the steps we followed above. "
      ]
    },
    {
      "cell_type": "markdown",
      "metadata": {
        "colab_type": "text",
        "id": "-mHYA1BzAnrz"
      },
      "source": [
        "#### Model 2"
      ]
    },
    {
      "cell_type": "code",
      "metadata": {
        "colab_type": "code",
        "id": "Pz1YXAdiAnr0",
        "colab": {}
      },
      "source": [
        ""
      ],
      "execution_count": 0,
      "outputs": []
    },
    {
      "cell_type": "code",
      "metadata": {
        "colab_type": "code",
        "id": "nM1EGf16Anr2",
        "colab": {}
      },
      "source": [
        ""
      ],
      "execution_count": 0,
      "outputs": []
    },
    {
      "cell_type": "markdown",
      "metadata": {
        "colab_type": "text",
        "id": "JWjQLr3LAnr6"
      },
      "source": [
        "**<font color='teal'> When reviewing our new model coefficients, we see `summit_elev` is now in the number two spot. This is also difficult to change from a management prespective and highly correlated with `base_elev` and `vertical_drop`.  This time, rebuild the model without the state features and without the `summit_elev` and without `base_elev`and compare the results. </font>**"
      ]
    },
    {
      "cell_type": "markdown",
      "metadata": {
        "colab_type": "text",
        "id": "RXqvcn93Anr7"
      },
      "source": [
        "#### Model 3"
      ]
    },
    {
      "cell_type": "code",
      "metadata": {
        "colab_type": "code",
        "id": "6eugnDNNAnr8",
        "colab": {}
      },
      "source": [
        ""
      ],
      "execution_count": 0,
      "outputs": []
    },
    {
      "cell_type": "code",
      "metadata": {
        "colab_type": "code",
        "id": "pq0pW7G9Anr_",
        "colab": {}
      },
      "source": [
        ""
      ],
      "execution_count": 0,
      "outputs": []
    },
    {
      "cell_type": "code",
      "metadata": {
        "colab_type": "code",
        "id": "reXlf0HAAnsG",
        "colab": {}
      },
      "source": [
        ""
      ],
      "execution_count": 0,
      "outputs": []
    },
    {
      "cell_type": "markdown",
      "metadata": {
        "colab_type": "text",
        "id": "MJvQMns6AnsI"
      },
      "source": [
        "## Identify the Final Model"
      ]
    },
    {
      "cell_type": "markdown",
      "metadata": {
        "colab_type": "text",
        "id": "LD7-3iLcAnsK"
      },
      "source": [
        "**<font color='teal'> Review the model performances in the table below and choose the best model for proving insights to Big Mountain management about what features are driving ski resort lift ticket prices. Type your choice in the final markdown cell — you will discuss this selection more in the next step of the guided casptone. </font>**"
      ]
    },
    {
      "cell_type": "markdown",
      "metadata": {
        "colab_type": "text",
        "id": "La5S9fRPAnsK"
      },
      "source": [
        "| Model | Explained Variance| Mean Absolute Error|Features Dropped|\n",
        "| --- | --- | --- | --- |\n",
        "| Model 1. | 0. |  |-|\n",
        "| Model 2. | 0.| |'state'|\n",
        "| Model 3. | 0. | |'state','summit_elev','base_elev'|"
      ]
    },
    {
      "cell_type": "markdown",
      "metadata": {
        "colab_type": "text",
        "id": "T2c-zn7TAnsL"
      },
      "source": [
        "Model Selection:"
      ]
    },
    {
      "cell_type": "code",
      "metadata": {
        "colab_type": "code",
        "id": "CgC0eMBrAnsM",
        "colab": {}
      },
      "source": [
        ""
      ],
      "execution_count": 0,
      "outputs": []
    }
  ]
}